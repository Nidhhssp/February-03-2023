{
 "cells": [
  {
   "cell_type": "markdown",
   "id": "75481d0c",
   "metadata": {},
   "source": [
    "# Assignment "
   ]
  },
  {
   "cell_type": "markdown",
   "id": "cac532f4",
   "metadata": {},
   "source": [
    "## Q1. Which keyword is used to create a function? Create a function to return a list of odd numbers in the range of 1 to 25.\n",
    "## Answer:\n"
   ]
  },
  {
   "cell_type": "markdown",
   "id": "1cacf826",
   "metadata": {},
   "source": [
    "### def keyword is used to create a function."
   ]
  },
  {
   "cell_type": "code",
   "execution_count": 1,
   "id": "f7faeef5",
   "metadata": {},
   "outputs": [
    {
     "name": "stdout",
     "output_type": "stream",
     "text": [
      "Enter range:25\n",
      "List of odd number from 1 to 25\n",
      "1\n",
      "3\n",
      "5\n",
      "7\n",
      "9\n",
      "11\n",
      "13\n",
      "15\n",
      "17\n",
      "19\n",
      "21\n",
      "23\n"
     ]
    }
   ],
   "source": [
    "# Function to return a list of odd numbers in the range of 1 to 25\n",
    "def odd(n):\n",
    "    for i in range(1,n):\n",
    "        if i%2 != 0:\n",
    "            print(i)\n",
    "            \n",
    "n=int(input(\"Enter range:\"))\n",
    "print(\"List of odd number from 1 to {}\".format(n))\n",
    "odd(n)"
   ]
  },
  {
   "cell_type": "markdown",
   "id": "af83ce8b",
   "metadata": {},
   "source": [
    "..............................................................................................................................."
   ]
  },
  {
   "cell_type": "markdown",
   "id": "da337b10",
   "metadata": {},
   "source": [
    "## Q2. Why \\*args and \\**kwargs is used in some functions? Create a function each for \n",
    "## \\*args and \\**kwargs to demonstrate their use.\n",
    "## Answer:\n",
    "\n"
   ]
  },
  {
   "cell_type": "markdown",
   "id": "a1ed41ca",
   "metadata": {},
   "source": [
    "### \\*args and  **kwargs is used in some function’s argument when we have doubts about the number of  arguments we should pass in a function.\n",
    "\n",
    "* \\*args in python is used to pass a variable number of arguments to a function. It is used to pass a non-key worded, variable-length argument list. \n",
    "\n",
    "* \\**kwargs in python is used to pass a keyworded, variable-length argument list. We use the name kwargs with the double star. The reason is that the double star allows us to pass through keyword arguments.\n"
   ]
  },
  {
   "cell_type": "code",
   "execution_count": 2,
   "id": "0f2140f2",
   "metadata": {},
   "outputs": [
    {
     "data": {
      "text/plain": [
       "(1, 2, 3)"
      ]
     },
     "execution_count": 2,
     "metadata": {},
     "output_type": "execute_result"
    }
   ],
   "source": [
    "# *args argument used in function\n",
    "def test(*args):\n",
    "    return args\n",
    "test(1,2,3)"
   ]
  },
  {
   "cell_type": "code",
   "execution_count": 3,
   "id": "02f571f0",
   "metadata": {},
   "outputs": [
    {
     "data": {
      "text/plain": [
       "{'Name': 'Nid', 'Course': 'BCA'}"
      ]
     },
     "execution_count": 3,
     "metadata": {},
     "output_type": "execute_result"
    }
   ],
   "source": [
    "# **kwargs argument used in function\n",
    "def test1(**kwargs):\n",
    "    return kwargs\n",
    "test1(Name='Nid',Course='BCA')"
   ]
  },
  {
   "cell_type": "markdown",
   "id": "3bc7ebcf",
   "metadata": {},
   "source": [
    "................................................................................................................................"
   ]
  },
  {
   "cell_type": "markdown",
   "id": "364fcabd",
   "metadata": {},
   "source": [
    "## Q3. What is an iterator in python? Name the method used to initialise the iterator object and the method used for iteration. Use these methods to print the first five elements of the given list [2, 4, 6, 8, 10, 12, 14, 16,18, 20].\n",
    "\n"
   ]
  },
  {
   "cell_type": "markdown",
   "id": "aed702b1",
   "metadata": {},
   "source": [
    "* An iterator is an object which implements the iterator protocol, which consist of the methods __iter__() and __next__().\n",
    "    * iter() method which is used to get an iterator\n",
    "* An iterator is an object that contains a countable number of values.\n",
    "* An iterator is an object that can be iterated upon, meaning that you can traverse through all the values.\n",
    "### iter() method used to initialise the iterator object and the method used for iteration"
   ]
  },
  {
   "cell_type": "code",
   "execution_count": 4,
   "id": "bae99739",
   "metadata": {},
   "outputs": [
    {
     "name": "stdout",
     "output_type": "stream",
     "text": [
      "2\n",
      "4\n",
      "6\n",
      "8\n",
      "10\n"
     ]
    }
   ],
   "source": [
    "# Ist Method by using iter() method\n",
    "lst=[2, 4, 6, 8, 10, 12, 14, 16,18, 20]\n",
    "it = iter(lst)\n",
    "print(next(it))\n",
    "print(next(it))\n",
    "print(next(it))\n",
    "print(next(it))\n",
    "print(next(it))"
   ]
  },
  {
   "cell_type": "code",
   "execution_count": 5,
   "id": "a0e9ee7d",
   "metadata": {},
   "outputs": [
    {
     "name": "stdout",
     "output_type": "stream",
     "text": [
      "2\n",
      "4\n",
      "6\n",
      "8\n",
      "10\n"
     ]
    }
   ],
   "source": [
    "# IInd Method by using for loop\n",
    "lst=[2, 4, 6, 8, 10, 12, 14, 16,18, 20]\n",
    "for i in range(5):\n",
    "    print(lst[i])"
   ]
  },
  {
   "cell_type": "markdown",
   "id": "10e02ef0",
   "metadata": {},
   "source": [
    "..............................................................................................................................."
   ]
  },
  {
   "cell_type": "markdown",
   "id": "fc321cae",
   "metadata": {},
   "source": [
    "## Q4. What is a generator function in python? Why yield keyword is used? Give an example of a generator function.\n",
    "## Answer:\n"
   ]
  },
  {
   "cell_type": "markdown",
   "id": "34692b38",
   "metadata": {},
   "source": [
    "### Generator Function: \n",
    "* A generator-function is defined like a normal function, but whenever it needs to generate a value, it does so with the 'yield' keyword rather than return. If the body of a def contains 'yield', the function automatically becomes a \"generator function\".\n",
    "* Generator function returns an generator object that is iterable, i.e., can be used as an Iterators .\n",
    "\n",
    "### yield Keyword\n",
    "* yield keyword is used to create a generator function. \n",
    "* yield is used in Python generators.\n",
    "\n",
    "* Advantages of yield:\n",
    "    * Using yield keyword is highly memory efficient."
   ]
  },
  {
   "cell_type": "code",
   "execution_count": 4,
   "id": "7b50e50d",
   "metadata": {},
   "outputs": [
    {
     "name": "stdout",
     "output_type": "stream",
     "text": [
      "Enter the range:10\n",
      "0\n",
      "1\n",
      "1\n",
      "2\n",
      "3\n",
      "5\n",
      "8\n",
      "13\n",
      "21\n",
      "34\n"
     ]
    }
   ],
   "source": [
    "# Generator Function\n",
    "def fibo(n):\n",
    "    a,b=0,1\n",
    "    for i in range(n):\n",
    "        yield a\n",
    "        a,b=b,a+b\n",
    "        \n",
    "n=int(input(\"Enter the range:\"))\n",
    "for i in fibo(n):\n",
    "    print(i)"
   ]
  },
  {
   "cell_type": "markdown",
   "id": "b86245d0",
   "metadata": {},
   "source": [
    "..............................................................................................................................."
   ]
  },
  {
   "cell_type": "markdown",
   "id": "32b8180a",
   "metadata": {},
   "source": [
    "## Q5. Create a generator function for prime numbers less than 1000. Use the next() method to print the first 20 prime numbers.\n",
    "## Answer:"
   ]
  },
  {
   "cell_type": "code",
   "execution_count": 5,
   "id": "d4bc214b",
   "metadata": {},
   "outputs": [],
   "source": [
    "# Function for check prime number\n",
    "from math import sqrt\n",
    "def prime(n):\n",
    "    if(n<=1):\n",
    "        return False\n",
    "    if(n==2):\n",
    "        return True\n",
    "    if(n%2==0):\n",
    "        return False\n",
    "    i=3\n",
    "    while i<=sqrt(n):\n",
    "        if(n%i==0):\n",
    "            return False\n",
    "        i=i+2\n",
    "    return True"
   ]
  },
  {
   "cell_type": "code",
   "execution_count": 6,
   "id": "79313223",
   "metadata": {},
   "outputs": [],
   "source": [
    "# Generator Function for Prime number\n",
    "def prime_gen():\n",
    "    n=1\n",
    "    while True:\n",
    "        n += 1\n",
    "        if prime(n):\n",
    "            yield n\n"
   ]
  },
  {
   "cell_type": "code",
   "execution_count": 7,
   "id": "dcc1d156",
   "metadata": {},
   "outputs": [
    {
     "name": "stdout",
     "output_type": "stream",
     "text": [
      "2\n",
      "3\n",
      "5\n",
      "7\n",
      "11\n",
      "13\n",
      "17\n",
      "19\n",
      "23\n",
      "29\n",
      "31\n",
      "37\n",
      "41\n",
      "43\n",
      "47\n",
      "53\n",
      "59\n",
      "61\n",
      "67\n",
      "71\n"
     ]
    }
   ],
   "source": [
    "# next() method to print prime number\n",
    "gen=prime_gen()\n",
    "for i in range(20):\n",
    "    print(next(gen))"
   ]
  },
  {
   "cell_type": "markdown",
   "id": "a869878d",
   "metadata": {},
   "source": [
    "................................................................................................................................"
   ]
  }
 ],
 "metadata": {
  "kernelspec": {
   "display_name": "Python 3 (ipykernel)",
   "language": "python",
   "name": "python3"
  },
  "language_info": {
   "codemirror_mode": {
    "name": "ipython",
    "version": 3
   },
   "file_extension": ".py",
   "mimetype": "text/x-python",
   "name": "python",
   "nbconvert_exporter": "python",
   "pygments_lexer": "ipython3",
   "version": "3.9.13"
  }
 },
 "nbformat": 4,
 "nbformat_minor": 5
}
